{
 "cells": [
  {
   "cell_type": "code",
   "execution_count": 4,
   "id": "65f78cfd",
   "metadata": {},
   "outputs": [
    {
     "name": "stdout",
     "output_type": "stream",
     "text": [
      "Steps:\n",
      "0 0\n",
      "4 0\n",
      "4 3\n",
      "0 3\n",
      "3 0\n",
      "3 3\n",
      "4 2\n",
      "0 2\n"
     ]
    },
    {
     "data": {
      "text/plain": [
       "True"
      ]
     },
     "execution_count": 4,
     "metadata": {},
     "output_type": "execute_result"
    }
   ],
   "source": [
    "from collections import defaultdict\n",
    "jug1,jug2,aim=4,3,2\n",
    "visited=defaultdict(lambda:False)\n",
    "def waterjugSolver(amt1,amt2):\n",
    "    if(amt1==aim and amt2 ==0)or(amt2==aim and amt1==0):\n",
    "        print(amt1,amt2)\n",
    "        return True\n",
    "    if visited[(amt1,amt2)]==False:\n",
    "        print(amt1,amt2)\n",
    "        visited[(amt1,amt2)]=True\n",
    "        return(waterjugSolver(0,amt2)or\n",
    "              waterjugSolver(amt1,0)or\n",
    "               waterjugSolver(jug1,amt2)or\n",
    "               waterjugSolver(amt1,jug2)or\n",
    "               waterjugSolver(amt1+min(amt2,(jug1-amt1)),\n",
    "                             amt2-min(amt2,(jug1-amt1)))or\n",
    "               waterjugSolver(amt1-min(amt1,(jug2-amt2)),\n",
    "                             amt2=min(amt1,(jug2-amt2))))\n",
    "    else:\n",
    "        return False\n",
    "print(\"Steps:\")\n",
    "waterjugSolver(0,0)"
   ]
  },
  {
   "cell_type": "code",
   "execution_count": 19,
   "id": "23b19b18",
   "metadata": {},
   "outputs": [
    {
     "name": "stdout",
     "output_type": "stream",
     "text": [
      "Move disk 1 from source A to deastination B\n",
      "Move disk 2 from source A to destination C\n",
      "Move disk 1 from source B to deastination C\n",
      "Move disk 3 from source A to destination B\n",
      "Move disk 1 from source C to deastination A\n",
      "Move disk 2 from source C to destination B\n",
      "Move disk 1 from source A to deastination B\n"
     ]
    }
   ],
   "source": [
    "def TowerOfHanoi(n,source,destination,auxiliary):\n",
    "    if n==1:\n",
    "        print(\"Move disk 1 from source\",source,\"to deastination\",destination)\n",
    "        return\n",
    "    TowerOfHanoi(n-1,source,auxiliary,destination)\n",
    "    print(\"Move disk\",n,\"from source\",source,\"to destination\",destination)\n",
    "    TowerOfHanoi(n-1,auxiliary,destination,source)\n",
    "    \n",
    "n=3\n",
    "TowerOfHanoi(n,'A','B','C')"
   ]
  },
  {
   "cell_type": "code",
   "execution_count": 24,
   "id": "7d5ebcf2",
   "metadata": {},
   "outputs": [
    {
     "name": "stdout",
     "output_type": "stream",
     "text": [
      "Enter the number of nodes:4\n",
      "Enter the number of edges:5\n",
      "Enter the edges along with their weights: \n",
      "0 1 1\n",
      "0 2 1\n",
      "0 3 2\n",
      "2 3 2\n",
      "1 3 3\n",
      "Enter the source Node:2\n",
      "Enter the target/destination Node:1\n",
      "Path:2 0 1 "
     ]
    }
   ],
   "source": [
    "from queue import PriorityQueue\n",
    "import matplotlib.pyplot as plt\n",
    "import networkx as nx\n",
    "\n",
    "def best_first_search(source,target,n):\n",
    "    visited=[0]*n\n",
    "    visited[source]=True\n",
    "    pq=PriorityQueue()\n",
    "    pq.put((0,source))\n",
    "    while pq.empty()==False:\n",
    "        u=pq.get()[1]\n",
    "        print(u,end=\" \")\n",
    "        if u==target:\n",
    "            break\n",
    "        for v,c in graph[u]:\n",
    "            if visited[v]==False:\n",
    "                visited[v]=True\n",
    "                pq.put((c,v))\n",
    "            #print()\n",
    "def addedge(x,y,cost):\n",
    "    graph[x].append((y,cost))\n",
    "    graph[y].append((x,cost))\n",
    "v=int(input(\"Enter the number of nodes:\"))\n",
    "graph=[[]for i in range(v)]\n",
    "e=int(input(\"Enter the number of edges:\"))\n",
    "print(\"Enter the edges along with their weights: \")\n",
    "for i in range(e):\n",
    "    x,y,z=list(map(int,input().split()))\n",
    "    addedge(x,y,z)\n",
    "source=int(input(\"Enter the source Node:\"))\n",
    "target=int(input(\"Enter the target/destination Node:\"))\n",
    "print(\"Path:\",end=\"\")\n",
    "best_first_search(source,target,v)\n",
    "           "
   ]
  },
  {
   "cell_type": "code",
   "execution_count": null,
   "id": "075a9254",
   "metadata": {},
   "outputs": [],
   "source": []
  }
 ],
 "metadata": {
  "kernelspec": {
   "display_name": "Python 3 (ipykernel)",
   "language": "python",
   "name": "python3"
  },
  "language_info": {
   "codemirror_mode": {
    "name": "ipython",
    "version": 3
   },
   "file_extension": ".py",
   "mimetype": "text/x-python",
   "name": "python",
   "nbconvert_exporter": "python",
   "pygments_lexer": "ipython3",
   "version": "3.9.7"
  }
 },
 "nbformat": 4,
 "nbformat_minor": 5
}
